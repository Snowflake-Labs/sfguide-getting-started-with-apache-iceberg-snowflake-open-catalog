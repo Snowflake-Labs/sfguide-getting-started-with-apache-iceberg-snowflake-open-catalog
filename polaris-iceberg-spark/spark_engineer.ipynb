{
 "cells": [
  {
   "cell_type": "markdown",
   "metadata": {},
   "source": [
    "# Apache Spark: Query data as an engineer"
   ]
  },
  {
   "cell_type": "markdown",
   "metadata": {},
   "source": [
    "*NOTE: Had to download slf4j-api-1.7.30.jar from https://repo1.maven.org/maven2/org/slf4j/slf4j-api/1.7.30/ and copy it into /Users/ddesai/.m2/repository/org/slf4j/slf4j-api/1.7.30/.*"
   ]
  },
  {
   "cell_type": "code",
   "execution_count": null,
   "metadata": {},
   "outputs": [],
   "source": [
    "import os\n",
    "from dotenv import load_dotenv\n",
    "# import pyspark\n",
    "from pyspark.sql import SparkSession\n",
    "\n",
    "load_dotenv()\n",
    "\n",
    "POLARIS_ENGINEER_CLIENT_ID = os.getenv('POLARIS_ENGINEER_CLIENT_ID')\n",
    "POLARIS_ENGINEER_CLIENT_SECRET = os.getenv('POLARIS_ENGINEER_CLIENT_SECRET')\n",
    "WAREHOUSE = 'snowflake_catalog'\n",
    "PRINCIPAL_ENGINEER_ROLE = 'spark_principal_role'\n",
    "\n",
    "try:\n",
    "    spark = SparkSession.builder.appName('iceberg') \\\n",
    "        .config('spark.jars.packages', 'org.apache.iceberg:iceberg-spark-runtime-3.5_2.12:1.4.1,software.amazon.awssdk:bundle:2.20.160,software.amazon.awssdk:url-connection-client:2.20.160') \\\n",
    "        .config('spark.sql.extensions', 'org.apache.iceberg.spark.extensions.IcebergSparkSessionExtensions') \\\n",
    "        .config('spark.sql.defaultCatalog', 'polaris') \\\n",
    "        .config('spark.sql.catalog.polaris', 'org.apache.iceberg.spark.SparkCatalog') \\\n",
    "        .config('spark.sql.iceberg.vectorization.enabled', 'false') \\\n",
    "        .config('spark.sql.catalog.polaris.type', 'rest') \\\n",
    "        .config('spark.sql.catalog.polaris.header.X-Iceberg-Access-Delegation', 'vended-credentials') \\\n",
    "        .config('spark.sql.catalog.polaris.uri', f\"https://obb44892.snowflakecomputing.com/polaris/api/catalog\") \\\n",
    "        .config('spark.sql.catalog.polaris.credential', f\"{POLARIS_ENGINEER_CLIENT_ID}:{POLARIS_ENGINEER_CLIENT_SECRET}\") \\\n",
    "        .config('spark.sql.catalog.polaris.warehouse', f\"{WAREHOUSE}\") \\\n",
    "        .config('spark.sql.catalog.polaris.scope', f\"PRINCIPAL_ROLE:{PRINCIPAL_ENGINEER_ROLE}\") \\\n",
    "        .config('spark.sql.catalog.polaris.client.region','us-west-2') \\\n",
    "        .getOrCreate()\n",
    "except Exception as e:\n",
    "      print(e)"
   ]
  },
  {
   "cell_type": "code",
   "execution_count": null,
   "metadata": {},
   "outputs": [],
   "source": [
    "spark.sql(\"SHOW TABLES IN DASH_DB.RAW\").show(truncate=False)"
   ]
  },
  {
   "cell_type": "code",
   "execution_count": null,
   "metadata": {},
   "outputs": [],
   "source": [
    "spark.sql(\"SELECT * FROM DASH_DB.RAW.STREAMING_VEHICLE_EVENTS\").show(truncate=False)"
   ]
  }
 ],
 "metadata": {
  "kernelspec": {
   "display_name": "iceberg",
   "language": "python",
   "name": "python3"
  },
  "language_info": {
   "codemirror_mode": {
    "name": "ipython",
    "version": 3
   },
   "file_extension": ".py",
   "mimetype": "text/x-python",
   "name": "python",
   "nbconvert_exporter": "python",
   "pygments_lexer": "ipython3",
   "version": "3.12.6"
  }
 },
 "nbformat": 4,
 "nbformat_minor": 2
}
