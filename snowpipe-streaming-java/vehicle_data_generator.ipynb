{
 "cells": [
  {
   "cell_type": "code",
   "execution_count": 1,
   "metadata": {},
   "outputs": [],
   "source": [
    "import csv\n",
    "import random\n",
    "from datetime import datetime, timedelta"
   ]
  },
  {
   "cell_type": "code",
   "execution_count": 2,
   "metadata": {},
   "outputs": [],
   "source": [
    "def generate_vehicle_data(vehicle_id, event_created_at):\n",
    "    latitude = round(random.uniform(34.0, 42.0), 4)  # Random latitude in the US\n",
    "    longitude = round(random.uniform(-125.0, -70.0), 4)  # Random longitude in the US\n",
    "    speed = round(random.uniform(50.0, 80.0), 1)  # Random speed between 50 and 80\n",
    "    engine_status = random.choice([\"normal\", \"check_engine_light_on\"])\n",
    "    fuel_consumption_current = round(random.uniform(5.0, 10.0), 1)\n",
    "    fuel_consumption_average = round(random.uniform(5.0, 10.0), 1)\n",
    "    fuel_consumption_unit = \"L/100km\"\n",
    "    \n",
    "    # Random driver behavior\n",
    "    hard_accelerations = random.randint(0, 5)\n",
    "    smooth_accelerations = random.randint(10, 20)\n",
    "    hard_brakes = random.randint(0, 3)\n",
    "    smooth_brakes = random.randint(5, 15)\n",
    "    sharp_turns = random.randint(0, 3)\n",
    "    gentle_turns = random.randint(4, 8)\n",
    "    \n",
    "    maintenance_required = random.choice([True, False])\n",
    "\n",
    "    return [\n",
    "        vehicle_id,\n",
    "        event_created_at,\n",
    "        latitude,\n",
    "        longitude,\n",
    "        speed,\n",
    "        engine_status,\n",
    "        fuel_consumption_current,\n",
    "        fuel_consumption_average,\n",
    "        fuel_consumption_unit,\n",
    "        hard_accelerations,\n",
    "        smooth_accelerations,\n",
    "        hard_brakes,\n",
    "        smooth_brakes,\n",
    "        sharp_turns,\n",
    "        gentle_turns,\n",
    "        maintenance_required\n",
    "    ]"
   ]
  },
  {
   "cell_type": "code",
   "execution_count": 3,
   "metadata": {},
   "outputs": [],
   "source": [
    "def generate_vehicle_info(vehicle_id):\n",
    "    # Generate a fictitious vehicle model\n",
    "    models = [\"Sedan\", \"SUV\", \"Truck\", \"Hatchback\", \"Coupe\", \"Convertible\"]\n",
    "    model = random.choice(models)\n",
    "    \n",
    "    # You can expand this to include more fictitious vehicle data if needed\n",
    "    return {\n",
    "        \"vehicle_id\": vehicle_id,\n",
    "        \"model\": model,\n",
    "        \"year\": random.randint(2015, 2024),  # Random year between 2015 and 2024\n",
    "        \"color\": random.choice([\"Red\", \"Blue\", \"Green\", \"Black\", \"White\"])  # Random color\n",
    "    }"
   ]
  },
  {
   "cell_type": "code",
   "execution_count": 4,
   "metadata": {},
   "outputs": [],
   "source": [
    "def generate_maintenance_records(vehicle_id, make_year):\n",
    "    records = []\n",
    "    current_date = datetime.now()\n",
    "    \n",
    "    # Generate a random number of services (0 to 5)\n",
    "    num_services = random.randint(0, 5)\n",
    "    \n",
    "    for _ in range(num_services):\n",
    "        # Service date should be older than one week but not older than the make year\n",
    "        service_date = current_date - timedelta(days=random.randint(8, 365))\n",
    "        if service_date.year < make_year:\n",
    "            continue\n",
    "        \n",
    "        next_service_due = service_date + timedelta(days=random.randint(30, 180))  # Service due in 1 to 6 months\n",
    "        \n",
    "        records.append({\n",
    "            \"vehicle_id\": vehicle_id,\n",
    "            \"service_date\": service_date.strftime('%Y-%m-%d'),\n",
    "            \"next_service_due\": next_service_due.strftime('%Y-%m-%d'),\n",
    "            \"service_type\": random.choice([\"Oil Change\", \"Tire Rotation\", \"Brake Inspection\", \"Transmission Check\", \"General Service\"])\n",
    "        })\n",
    "        \n",
    "    return records"
   ]
  },
  {
   "cell_type": "code",
   "execution_count": 28,
   "metadata": {},
   "outputs": [
    {
     "name": "stdout",
     "output_type": "stream",
     "text": [
      "Number of records created: 47535\n"
     ]
    }
   ],
   "source": [
    "num_records = 500000\n",
    "current_time = datetime.now()\n",
    "one_week_ago = current_time - timedelta(weeks=1)\n",
    "records = []\n",
    "vehicle_info_records = []\n",
    "maintenance_records = []\n",
    "\n",
    "# Create a pool of unique vehicle IDs\n",
    "vehicle_ids = [f\"V{random.randint(1000, num_records)}\" for _ in range(num_records // 10)]\n",
    "\n",
    "for i in range(num_records):\n",
    "    # Generate a random timestamp within the last week\n",
    "    random_seconds = random.randint(0, 7 * 24 * 60 * 60)  # Random seconds within a week\n",
    "    timestamp = one_week_ago + timedelta(seconds=random_seconds)\n",
    "    \n",
    "    # Randomly select a vehicle ID from the pool, allowing for duplicates\n",
    "    vehicle_id = random.choice(vehicle_ids)\n",
    "    \n",
    "    # Ensure unique vehicle IDs\n",
    "    if vehicle_id not in [record[0] for record in records]:\n",
    "        vehicle_info = generate_vehicle_info(vehicle_id)\n",
    "        records.append(generate_vehicle_data(vehicle_id, timestamp.isoformat() + 'Z'))\n",
    "        vehicle_info_records.append(vehicle_info)\n",
    "\n",
    "        # Generate maintenance records based on the make year\n",
    "        maintenance_records.extend(generate_maintenance_records(vehicle_id, vehicle_info[\"year\"]))\n",
    "\n",
    "print(f\"Number of records created: {len(records)}\")"
   ]
  },
  {
   "cell_type": "code",
   "execution_count": 29,
   "metadata": {},
   "outputs": [],
   "source": [
    "# Write vehicle telemetry data to CSV. This is what's used to feed Snowpipe Streaming Java client\n",
    "with open('vehicle_data.csv', 'w', newline='') as csvfile:\n",
    "    csvwriter = csv.writer(csvfile)\n",
    "    # Write header\n",
    "    csvwriter.writerow([\n",
    "        \"vehicle_id\", \"event_created_at\", \"latitude\", \"longitude\", \"speed\", \"engine_status\",\n",
    "        \"fuel_consumption_current\", \"fuel_consumption_average\", \"fuel_consumption_unit\",\n",
    "        \"hard_accelerations\", \"smooth_accelerations\", \"hard_brakes\", \"smooth_brakes\",\n",
    "        \"sharp_turns\", \"gentle_turns\", \"maintenance_required\"\n",
    "    ])\n",
    "    # Write records\n",
    "    csvwriter.writerows(records)"
   ]
  },
  {
   "cell_type": "code",
   "execution_count": 30,
   "metadata": {},
   "outputs": [],
   "source": [
    "# Write vehicle info data to CSV\n",
    "with open('vehicle_info.csv', 'w', newline='') as csvfile:\n",
    "    csvwriter = csv.writer(csvfile)\n",
    "    # Write header\n",
    "    csvwriter.writerow([\"vehicle_id\", \"model\", \"make_year\", \"color\"])\n",
    "    # Write records\n",
    "    for info in vehicle_info_records:\n",
    "        csvwriter.writerow([info[\"vehicle_id\"], info[\"model\"], info[\"year\"], info[\"color\"]])"
   ]
  },
  {
   "cell_type": "code",
   "execution_count": 31,
   "metadata": {},
   "outputs": [],
   "source": [
    "# Write maintenance records to CSV\n",
    "with open('maintenance_records.csv', 'w', newline='') as csvfile:\n",
    "    csvwriter = csv.writer(csvfile)\n",
    "    csvwriter.writerow([\"vehicle_id\", \"service_date\", \"next_service_due\", \"service_type\"])\n",
    "    for record in maintenance_records:\n",
    "        csvwriter.writerow([record[\"vehicle_id\"], record[\"service_date\"], record[\"next_service_due\"], record[\"service_type\"]])"
   ]
  },
  {
   "cell_type": "code",
   "execution_count": null,
   "metadata": {},
   "outputs": [],
   "source": []
  }
 ],
 "metadata": {
  "kernelspec": {
   "display_name": "iceberg",
   "language": "python",
   "name": "python3"
  },
  "language_info": {
   "codemirror_mode": {
    "name": "ipython",
    "version": 3
   },
   "file_extension": ".py",
   "mimetype": "text/x-python",
   "name": "python",
   "nbconvert_exporter": "python",
   "pygments_lexer": "ipython3",
   "version": "3.12.6"
  }
 },
 "nbformat": 4,
 "nbformat_minor": 2
}
